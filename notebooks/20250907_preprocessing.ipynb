{
 "cells": [
  {
   "cell_type": "code",
   "execution_count": 3,
   "id": "a0e0e3ee",
   "metadata": {},
   "outputs": [],
   "source": [
    "import importlib\n",
    "import residence\n",
    "import numpy as np\n",
    "import pandas as pd\n",
    "import matplotlib.pyplot as plt"
   ]
  },
  {
   "cell_type": "code",
   "execution_count": 4,
   "id": "2843057b",
   "metadata": {},
   "outputs": [],
   "source": [
    "house_ids = residence.all_data['dataid'].unique()"
   ]
  },
  {
   "cell_type": "code",
   "execution_count": 5,
   "id": "f69d8d46",
   "metadata": {},
   "outputs": [
    {
     "data": {
      "text/plain": [
       "city          state     \n",
       "Austin        Texas         24\n",
       "Brooktondale  New York       2\n",
       "Groton        New York       1\n",
       "Ithaca        New York      17\n",
       "Lansing       New York       1\n",
       "San Diego     California    22\n",
       "Trumansburg   New York       3\n",
       "dtype: int64"
      ]
     },
     "execution_count": 5,
     "metadata": {},
     "output_type": "execute_result"
    }
   ],
   "source": [
    "metadata = residence.get_metadata()\n",
    "metadata[metadata['dataid'].isin(house_ids)][['city', 'state']].groupby(\n",
    "    by=['city', 'state']\n",
    ").size()"
   ]
  },
  {
   "cell_type": "code",
   "execution_count": null,
   "id": "500c3776",
   "metadata": {},
   "outputs": [
    {
     "name": "stdout",
     "output_type": "stream",
     "text": [
      "27: Brooktondale, New York 2019-05-01 01:00:00, 2019-11-01 00:00:00\n",
      "142: Trumansburg, New York 2019-05-01 01:00:00, 2019-11-01 00:00:00\n",
      "387: Ithaca, New York 2019-05-01 01:00:00, 2019-11-01 00:00:00\n",
      "558: Ithaca, New York 2019-05-01 01:00:00, 2019-11-01 00:00:00\n",
      "914: Ithaca, New York 2019-05-01 01:00:00, 2019-11-01 00:00:00\n",
      "950: Ithaca, New York 2019-05-01 01:00:00, 2019-11-01 00:00:00\n",
      "1222: Ithaca, New York 2019-05-01 01:00:00, 2019-11-01 00:00:00\n",
      "1240: Groton, New York 2019-05-01 01:00:00, 2019-11-01 00:00:00\n",
      "1417: Ithaca, New York 2019-05-01 01:00:00, 2019-11-01 00:00:00\n",
      "2096: Ithaca, New York 2019-05-01 01:00:00, 2019-11-01 00:00:00\n",
      "2318: Trumansburg, New York 2019-05-01 01:00:00, 2019-11-01 00:00:00\n",
      "2358: Brooktondale, New York 2019-05-01 01:00:00, 2019-11-01 00:00:00\n",
      "3000: Ithaca, New York 2019-05-01 01:00:00, 2019-11-01 00:00:00\n",
      "3488: Ithaca, New York 2019-05-01 01:00:00, 2019-11-01 00:00:00\n",
      "3517: Ithaca, New York 2019-05-01 01:00:00, 2019-11-01 00:00:00\n",
      "3700: Ithaca, New York 2019-05-01 01:00:00, 2019-11-01 00:00:00\n",
      "3996: Trumansburg, New York 2019-05-01 01:00:00, 2019-11-01 00:00:00\n",
      "4283: Ithaca, New York 2019-05-01 01:00:00, 2019-11-01 00:00:00\n",
      "4550: Ithaca, New York 2019-05-01 01:00:00, 2019-11-01 00:00:00\n",
      "5058: Ithaca, New York 2019-05-01 01:00:00, 2019-11-01 00:00:00\n",
      "5587: Ithaca, New York 2019-05-01 01:00:00, 2019-11-01 00:00:00\n",
      "5679: Ithaca, New York 2019-05-01 01:00:00, 2019-11-01 00:00:00\n",
      "5997: Ithaca, New York 2019-05-01 01:00:00, 2019-11-01 00:00:00\n",
      "9053: Lansing, New York 2019-05-01 01:00:00, 2019-11-01 00:00:00\n",
      "661: Austin, Texas 2018-01-01 01:00:00, 2019-01-01 00:00:00\n",
      "1642: Austin, Texas 2018-01-01 01:00:00, 2019-01-01 00:00:00\n",
      "2335: Austin, Texas 2018-01-01 01:00:00, 2019-01-01 00:00:00\n",
      "2361: Austin, Texas 2018-01-01 01:00:00, 2019-01-01 00:00:00\n",
      "2818: Austin, Texas 2018-01-01 01:00:00, 2019-01-01 00:00:00\n",
      "3039: Austin, Texas 2018-01-01 01:00:00, 2019-01-01 00:00:00\n",
      "3456: Austin, Texas 2018-01-01 01:00:00, 2019-01-01 00:00:00\n",
      "3538: Austin, Texas 2018-01-01 01:00:00, 2019-01-01 00:00:00\n",
      "4031: Austin, Texas 2018-01-01 01:00:00, 2019-01-01 00:00:00\n",
      "4373: Austin, Texas 2018-01-01 01:00:00, 2019-01-01 00:00:00\n",
      "4767: Austin, Texas 2018-01-01 01:00:00, 2018-12-31 05:00:00\n",
      "5746: Austin, Texas 2018-01-01 01:00:00, 2019-01-01 00:00:00\n",
      "6139: Austin, Texas 2018-01-01 01:00:00, 2019-01-01 00:00:00\n",
      "7536: Austin, Texas 2018-01-01 01:00:00, 2019-01-01 00:00:00\n",
      "7719: Austin, Texas 2018-01-01 01:00:00, 2019-01-01 00:00:00\n",
      "7800: Austin, Texas 2018-01-01 01:00:00, 2019-01-01 00:00:00\n",
      "7901: Austin, Texas 2018-01-01 01:00:00, 2019-01-01 00:00:00\n",
      "7951: Austin, Texas 2018-01-01 01:00:00, 2019-01-01 00:00:00\n",
      "8156: Austin, Texas 2018-01-01 01:00:00, 2019-01-01 00:00:00\n",
      "8386: Austin, Texas 2018-01-01 01:00:00, 2019-01-01 00:00:00\n",
      "9019: Austin, Texas 2018-01-01 01:00:00, 2019-01-01 00:00:00\n",
      "9160: Austin, Texas 2018-01-01 03:00:00, 2019-01-01 00:00:00\n",
      "9278: Austin, Texas 2018-01-01 01:00:00, 2019-01-01 00:00:00\n",
      "9922: Austin, Texas 2018-01-01 01:00:00, 2019-01-01 00:00:00\n",
      "203: San Diego, California 2014-12-31 23:00:00, 2015-12-31 22:00:00\n",
      "1450: San Diego, California 2014-12-31 23:00:00, 2015-12-31 22:00:00\n",
      "1524: San Diego, California 2014-12-31 23:00:00, 2015-12-31 22:00:00\n",
      "1731: San Diego, California 2017-12-31 23:00:00, 2018-12-31 22:00:00\n",
      "2606: San Diego, California 2014-12-31 23:00:00, 2015-12-31 22:00:00\n",
      "3687: San Diego, California 2013-12-31 23:00:00, 2014-12-31 22:00:00\n",
      "3938: San Diego, California 2015-12-31 23:00:00, 2016-12-31 22:00:00\n",
      "4495: San Diego, California 2017-12-31 23:00:00, 2018-12-31 22:00:00\n",
      "4934: San Diego, California 2015-06-30 22:00:00, 2016-06-30 21:00:00\n",
      "5938: San Diego, California 2015-12-31 23:00:00, 2016-12-31 22:00:00\n",
      "6377: San Diego, California 2013-12-31 23:00:00, 2014-12-31 22:00:00\n",
      "6547: San Diego, California 2014-09-30 22:00:00, 2015-09-30 21:00:00\n",
      "7062: San Diego, California 2013-12-31 23:00:00, 2014-12-31 22:00:00\n",
      "7114: San Diego, California 2014-12-31 23:00:00, 2015-12-31 22:00:00\n",
      "8061: San Diego, California 2015-12-31 23:00:00, 2016-12-31 22:00:00\n",
      "8342: San Diego, California 2017-12-31 23:00:00, 2018-12-31 22:00:00\n",
      "8574: San Diego, California 2013-12-31 23:00:00, 2014-12-31 22:00:00\n",
      "8733: San Diego, California 2014-02-28 23:00:00, 2015-02-28 22:00:00\n",
      "9213: San Diego, California 2013-12-31 23:00:00, 2014-12-31 22:00:00\n",
      "9612: San Diego, California 2014-02-28 23:00:00, 2015-02-28 22:00:00\n",
      "9775: San Diego, California 2015-12-31 23:00:00, 2016-12-31 22:00:00\n",
      "9836: San Diego, California 2014-07-07 22:00:00, 2015-06-30 21:00:00\n"
     ]
    }
   ],
   "source": [
    "for id in house_ids:\n",
    "    r = residence.Residence(_id=id)\n",
    "    city, state = metadata[metadata['dataid'] == id][['city', 'state']].iloc[0].tolist()\n",
    "    print(f\"\"\"{id}: {city}, {state\n",
    "        } {r.meterage60['localminute'].min()}, {r.meterage60['localminute'].max()}\"\"\")\n",
    "    fig, axes = r.plot_overview()\n",
    "    fig.savefig(f'figures/preview/preview_{id}_{city}_{state}.png', dpi=300, bbox_inches='tight')\n",
    "    plt.close(fig)"
   ]
  },
  {
   "cell_type": "code",
   "execution_count": 45,
   "id": "56c52b2c",
   "metadata": {},
   "outputs": [
    {
     "data": {
      "text/html": [
       "<div>\n",
       "<style scoped>\n",
       "    .dataframe tbody tr th:only-of-type {\n",
       "        vertical-align: middle;\n",
       "    }\n",
       "\n",
       "    .dataframe tbody tr th {\n",
       "        vertical-align: top;\n",
       "    }\n",
       "\n",
       "    .dataframe thead th {\n",
       "        text-align: right;\n",
       "    }\n",
       "</style>\n",
       "<table border=\"1\" class=\"dataframe\">\n",
       "  <thead>\n",
       "    <tr style=\"text-align: right;\">\n",
       "      <th></th>\n",
       "      <th>hoy</th>\n",
       "      <th>local_minute</th>\n",
       "      <th>Dew Point</th>\n",
       "      <th>GHI</th>\n",
       "      <th>Temperature</th>\n",
       "      <th>Wind Direction</th>\n",
       "      <th>Surface Albedo</th>\n",
       "      <th>DHI</th>\n",
       "      <th>DNI</th>\n",
       "      <th>Pressure</th>\n",
       "      <th>Wind Speed</th>\n",
       "    </tr>\n",
       "  </thead>\n",
       "  <tbody>\n",
       "    <tr>\n",
       "      <th>0</th>\n",
       "      <td>1</td>\n",
       "      <td>2019-01-01 00:00:00</td>\n",
       "      <td>3.8</td>\n",
       "      <td>0</td>\n",
       "      <td>5.2</td>\n",
       "      <td>192</td>\n",
       "      <td>0.12</td>\n",
       "      <td>0</td>\n",
       "      <td>0</td>\n",
       "      <td>976</td>\n",
       "      <td>1.6</td>\n",
       "    </tr>\n",
       "    <tr>\n",
       "      <th>1</th>\n",
       "      <td>2</td>\n",
       "      <td>2019-01-01 01:00:00</td>\n",
       "      <td>4.6</td>\n",
       "      <td>0</td>\n",
       "      <td>5.9</td>\n",
       "      <td>203</td>\n",
       "      <td>0.12</td>\n",
       "      <td>0</td>\n",
       "      <td>0</td>\n",
       "      <td>975</td>\n",
       "      <td>1.4</td>\n",
       "    </tr>\n",
       "    <tr>\n",
       "      <th>2</th>\n",
       "      <td>3</td>\n",
       "      <td>2019-01-01 02:00:00</td>\n",
       "      <td>5.7</td>\n",
       "      <td>0</td>\n",
       "      <td>7.0</td>\n",
       "      <td>217</td>\n",
       "      <td>0.12</td>\n",
       "      <td>0</td>\n",
       "      <td>0</td>\n",
       "      <td>974</td>\n",
       "      <td>1.4</td>\n",
       "    </tr>\n",
       "    <tr>\n",
       "      <th>3</th>\n",
       "      <td>4</td>\n",
       "      <td>2019-01-01 03:00:00</td>\n",
       "      <td>7.1</td>\n",
       "      <td>0</td>\n",
       "      <td>8.3</td>\n",
       "      <td>237</td>\n",
       "      <td>0.12</td>\n",
       "      <td>0</td>\n",
       "      <td>0</td>\n",
       "      <td>975</td>\n",
       "      <td>1.4</td>\n",
       "    </tr>\n",
       "    <tr>\n",
       "      <th>4</th>\n",
       "      <td>5</td>\n",
       "      <td>2019-01-01 04:00:00</td>\n",
       "      <td>7.9</td>\n",
       "      <td>0</td>\n",
       "      <td>8.8</td>\n",
       "      <td>255</td>\n",
       "      <td>0.12</td>\n",
       "      <td>0</td>\n",
       "      <td>0</td>\n",
       "      <td>976</td>\n",
       "      <td>1.6</td>\n",
       "    </tr>\n",
       "    <tr>\n",
       "      <th>...</th>\n",
       "      <td>...</td>\n",
       "      <td>...</td>\n",
       "      <td>...</td>\n",
       "      <td>...</td>\n",
       "      <td>...</td>\n",
       "      <td>...</td>\n",
       "      <td>...</td>\n",
       "      <td>...</td>\n",
       "      <td>...</td>\n",
       "      <td>...</td>\n",
       "      <td>...</td>\n",
       "    </tr>\n",
       "    <tr>\n",
       "      <th>8755</th>\n",
       "      <td>8756</td>\n",
       "      <td>2019-12-31 19:00:00</td>\n",
       "      <td>1.2</td>\n",
       "      <td>0</td>\n",
       "      <td>2.8</td>\n",
       "      <td>162</td>\n",
       "      <td>0.12</td>\n",
       "      <td>0</td>\n",
       "      <td>0</td>\n",
       "      <td>984</td>\n",
       "      <td>1.8</td>\n",
       "    </tr>\n",
       "    <tr>\n",
       "      <th>8756</th>\n",
       "      <td>8757</td>\n",
       "      <td>2019-12-31 20:00:00</td>\n",
       "      <td>1.8</td>\n",
       "      <td>0</td>\n",
       "      <td>3.3</td>\n",
       "      <td>169</td>\n",
       "      <td>0.12</td>\n",
       "      <td>0</td>\n",
       "      <td>0</td>\n",
       "      <td>982</td>\n",
       "      <td>1.9</td>\n",
       "    </tr>\n",
       "    <tr>\n",
       "      <th>8757</th>\n",
       "      <td>8758</td>\n",
       "      <td>2019-12-31 21:00:00</td>\n",
       "      <td>2.3</td>\n",
       "      <td>0</td>\n",
       "      <td>3.7</td>\n",
       "      <td>174</td>\n",
       "      <td>0.12</td>\n",
       "      <td>0</td>\n",
       "      <td>0</td>\n",
       "      <td>980</td>\n",
       "      <td>1.9</td>\n",
       "    </tr>\n",
       "    <tr>\n",
       "      <th>8758</th>\n",
       "      <td>8759</td>\n",
       "      <td>2019-12-31 22:00:00</td>\n",
       "      <td>2.7</td>\n",
       "      <td>0</td>\n",
       "      <td>4.2</td>\n",
       "      <td>181</td>\n",
       "      <td>0.12</td>\n",
       "      <td>0</td>\n",
       "      <td>0</td>\n",
       "      <td>979</td>\n",
       "      <td>1.9</td>\n",
       "    </tr>\n",
       "    <tr>\n",
       "      <th>8759</th>\n",
       "      <td>8760</td>\n",
       "      <td>2019-12-31 23:00:00</td>\n",
       "      <td>3.2</td>\n",
       "      <td>0</td>\n",
       "      <td>4.7</td>\n",
       "      <td>186</td>\n",
       "      <td>0.12</td>\n",
       "      <td>0</td>\n",
       "      <td>0</td>\n",
       "      <td>977</td>\n",
       "      <td>1.8</td>\n",
       "    </tr>\n",
       "  </tbody>\n",
       "</table>\n",
       "<p>8760 rows × 11 columns</p>\n",
       "</div>"
      ],
      "text/plain": [
       "       hoy        local_minute  Dew Point  GHI  Temperature  Wind Direction  \\\n",
       "0        1 2019-01-01 00:00:00        3.8    0          5.2             192   \n",
       "1        2 2019-01-01 01:00:00        4.6    0          5.9             203   \n",
       "2        3 2019-01-01 02:00:00        5.7    0          7.0             217   \n",
       "3        4 2019-01-01 03:00:00        7.1    0          8.3             237   \n",
       "4        5 2019-01-01 04:00:00        7.9    0          8.8             255   \n",
       "...    ...                 ...        ...  ...          ...             ...   \n",
       "8755  8756 2019-12-31 19:00:00        1.2    0          2.8             162   \n",
       "8756  8757 2019-12-31 20:00:00        1.8    0          3.3             169   \n",
       "8757  8758 2019-12-31 21:00:00        2.3    0          3.7             174   \n",
       "8758  8759 2019-12-31 22:00:00        2.7    0          4.2             181   \n",
       "8759  8760 2019-12-31 23:00:00        3.2    0          4.7             186   \n",
       "\n",
       "      Surface Albedo  DHI  DNI  Pressure  Wind Speed  \n",
       "0               0.12    0    0       976         1.6  \n",
       "1               0.12    0    0       975         1.4  \n",
       "2               0.12    0    0       974         1.4  \n",
       "3               0.12    0    0       975         1.4  \n",
       "4               0.12    0    0       976         1.6  \n",
       "...              ...  ...  ...       ...         ...  \n",
       "8755            0.12    0    0       984         1.8  \n",
       "8756            0.12    0    0       982         1.9  \n",
       "8757            0.12    0    0       980         1.9  \n",
       "8758            0.12    0    0       979         1.9  \n",
       "8759            0.12    0    0       977         1.8  \n",
       "\n",
       "[8760 rows x 11 columns]"
      ]
     },
     "execution_count": 45,
     "metadata": {},
     "output_type": "execute_result"
    }
   ],
   "source": [
    "weather_df = pd.read_csv('../weather/Ithaca_NY_2019.csv', skiprows=2)\n",
    "weather_df = weather_df.loc[:, ~weather_df.columns.str.startswith('Unnamed')]\n",
    "weather_df = weather_df.drop(columns=['1'], errors='ignore')\n",
    "weather_df['local_minute'] = weather_df.apply(\n",
    "    lambda row: pd.Timestamp(year=row['Year'].astype(int), month=row['Month'].astype(int), day=row['Day'].astype(int), hour=row['Hour'].astype(int)),\n",
    "    axis=1\n",
    ")\n",
    "weather_df.drop(columns=['Year', 'Month', 'Day', 'Hour', 'Minute'], inplace=True)\n",
    "weather_df['hoy'] = np.arange(1, len(weather_df) + 1)\n",
    "cols = ['hoy', 'local_minute'] + [col for col in weather_df.columns if col not in ['hoy', 'local_minute']]\n",
    "weather_df = weather_df[cols]\n",
    "weather_df"
   ]
  },
  {
   "cell_type": "code",
   "execution_count": 44,
   "id": "cb349d19",
   "metadata": {},
   "outputs": [
    {
     "data": {
      "text/plain": [
       "0         1\n",
       "1         1\n",
       "2         1\n",
       "3         1\n",
       "4         1\n",
       "       ... \n",
       "8755    365\n",
       "8756    365\n",
       "8757    365\n",
       "8758    365\n",
       "8759    365\n",
       "Name: local_minute, Length: 8760, dtype: int32"
      ]
     },
     "execution_count": 44,
     "metadata": {},
     "output_type": "execute_result"
    }
   ],
   "source": [
    "weather_df['local_minute'].dt.day_of_year"
   ]
  },
  {
   "cell_type": "code",
   "execution_count": 10,
   "id": "66f590f6",
   "metadata": {},
   "outputs": [],
   "source": [
    "r = residence.Residence(9922)"
   ]
  },
  {
   "cell_type": "code",
   "execution_count": 33,
   "id": "27678d32",
   "metadata": {},
   "outputs": [
    {
     "data": {
      "text/plain": [
       "0       0.00000\n",
       "1       0.00000\n",
       "2       0.00000\n",
       "3       0.00000\n",
       "4       0.00000\n",
       "         ...   \n",
       "8755    0.00350\n",
       "8756    0.00325\n",
       "8757    0.00600\n",
       "8758    0.00300\n",
       "8759    0.00150\n",
       "Name: HeatingCooling, Length: 8760, dtype: float64"
      ]
     },
     "execution_count": 33,
     "metadata": {},
     "output_type": "execute_result"
    }
   ],
   "source": [
    "r.meterage60_grouped['HeatingCooling']"
   ]
  },
  {
   "cell_type": "code",
   "execution_count": null,
   "id": "ee81b364",
   "metadata": {},
   "outputs": [
    {
     "data": {
      "text/plain": [
       "<matplotlib.collections.PathCollection at 0x292488e4dd0>"
      ]
     },
     "execution_count": 18,
     "metadata": {},
     "output_type": "execute_result"
    },
    {
     "data": {
      "image/png": "[encoded data removed]",
      "text/plain": [
       "<Figure size 640x480 with 1 Axes>"
      ]
     },
     "metadata": {},
     "output_type": "display_data"
    }
   ],
   "source": [
    "mapper = residence.get_weather()\n",
    "mapper('Austin', 2018)\n",
    "\n",
    "merged = r.meterage60_grouped.merge(mapper('Austin', 2018), left_on='localminute', right_on='local_minute', how='left')\n",
    "\n",
    "plt.scatter(merged['Temperature'], merged['HeatingCooling'], alpha=0.2)"
   ]
  },
  {
   "cell_type": "code",
   "execution_count": 35,
   "id": "6b6269c6",
   "metadata": {},
   "outputs": [
    {
     "ename": "IndexError",
     "evalue": "single positional indexer is out-of-bounds",
     "output_type": "error",
     "traceback": [
      "\u001b[1;31m---------------------------------------------------------------------------\u001b[0m",
      "\u001b[1;31mIndexError\u001b[0m                                Traceback (most recent call last)",
      "Cell \u001b[1;32mIn[35], line 2\u001b[0m\n\u001b[0;32m      1\u001b[0m survey \u001b[38;5;241m=\u001b[39m residence\u001b[38;5;241m.\u001b[39mall_survey\n\u001b[1;32m----> 2\u001b[0m survey[survey\u001b[38;5;241m.\u001b[39mdataid \u001b[38;5;241m==\u001b[39m \u001b[38;5;241m9922\u001b[39m]\u001b[38;5;241m.\u001b[39miloc[\u001b[38;5;241m0\u001b[39m]\u001b[38;5;241m.\u001b[39mto_dict()\n",
      "File \u001b[1;32mc:\\ProgramData\\anaconda3\\Lib\\site-packages\\pandas\\core\\indexing.py:1191\u001b[0m, in \u001b[0;36m_LocationIndexer.__getitem__\u001b[1;34m(self, key)\u001b[0m\n\u001b[0;32m   1189\u001b[0m maybe_callable \u001b[38;5;241m=\u001b[39m com\u001b[38;5;241m.\u001b[39mapply_if_callable(key, \u001b[38;5;28mself\u001b[39m\u001b[38;5;241m.\u001b[39mobj)\n\u001b[0;32m   1190\u001b[0m maybe_callable \u001b[38;5;241m=\u001b[39m \u001b[38;5;28mself\u001b[39m\u001b[38;5;241m.\u001b[39m_check_deprecated_callable_usage(key, maybe_callable)\n\u001b[1;32m-> 1191\u001b[0m \u001b[38;5;28;01mreturn\u001b[39;00m \u001b[38;5;28mself\u001b[39m\u001b[38;5;241m.\u001b[39m_getitem_axis(maybe_callable, axis\u001b[38;5;241m=\u001b[39maxis)\n",
      "File \u001b[1;32mc:\\ProgramData\\anaconda3\\Lib\\site-packages\\pandas\\core\\indexing.py:1752\u001b[0m, in \u001b[0;36m_iLocIndexer._getitem_axis\u001b[1;34m(self, key, axis)\u001b[0m\n\u001b[0;32m   1749\u001b[0m     \u001b[38;5;28;01mraise\u001b[39;00m \u001b[38;5;167;01mTypeError\u001b[39;00m(\u001b[38;5;124m\"\u001b[39m\u001b[38;5;124mCannot index by location index with a non-integer key\u001b[39m\u001b[38;5;124m\"\u001b[39m)\n\u001b[0;32m   1751\u001b[0m \u001b[38;5;66;03m# validate the location\u001b[39;00m\n\u001b[1;32m-> 1752\u001b[0m \u001b[38;5;28mself\u001b[39m\u001b[38;5;241m.\u001b[39m_validate_integer(key, axis)\n\u001b[0;32m   1754\u001b[0m \u001b[38;5;28;01mreturn\u001b[39;00m \u001b[38;5;28mself\u001b[39m\u001b[38;5;241m.\u001b[39mobj\u001b[38;5;241m.\u001b[39m_ixs(key, axis\u001b[38;5;241m=\u001b[39maxis)\n",
      "File \u001b[1;32mc:\\ProgramData\\anaconda3\\Lib\\site-packages\\pandas\\core\\indexing.py:1685\u001b[0m, in \u001b[0;36m_iLocIndexer._validate_integer\u001b[1;34m(self, key, axis)\u001b[0m\n\u001b[0;32m   1683\u001b[0m len_axis \u001b[38;5;241m=\u001b[39m \u001b[38;5;28mlen\u001b[39m(\u001b[38;5;28mself\u001b[39m\u001b[38;5;241m.\u001b[39mobj\u001b[38;5;241m.\u001b[39m_get_axis(axis))\n\u001b[0;32m   1684\u001b[0m \u001b[38;5;28;01mif\u001b[39;00m key \u001b[38;5;241m>\u001b[39m\u001b[38;5;241m=\u001b[39m len_axis \u001b[38;5;129;01mor\u001b[39;00m key \u001b[38;5;241m<\u001b[39m \u001b[38;5;241m-\u001b[39mlen_axis:\n\u001b[1;32m-> 1685\u001b[0m     \u001b[38;5;28;01mraise\u001b[39;00m \u001b[38;5;167;01mIndexError\u001b[39;00m(\u001b[38;5;124m\"\u001b[39m\u001b[38;5;124msingle positional indexer is out-of-bounds\u001b[39m\u001b[38;5;124m\"\u001b[39m)\n",
      "\u001b[1;31mIndexError\u001b[0m: single positional indexer is out-of-bounds"
     ]
    }
   ],
   "source": [
    "\n",
    "\n",
    "survey = residence.all_survey\n",
    "survey[survey.dataid == 9922].iloc[0].to_dict()"
   ]
  },
  {
   "cell_type": "code",
   "execution_count": 45,
   "id": "491bb579",
   "metadata": {},
   "outputs": [
    {
     "data": {
      "text/plain": [
       "1      True\n",
       "8      True\n",
       "20     True\n",
       "22     True\n",
       "28     True\n",
       "30     True\n",
       "73     True\n",
       "84     True\n",
       "104    True\n",
       "117    True\n",
       "119    True\n",
       "125    True\n",
       "16     True\n",
       "38     True\n",
       "44     True\n",
       "57     True\n",
       "71     True\n",
       "75     True\n",
       "154    True\n",
       "90     True\n",
       "Name: dataid, dtype: bool"
      ]
     },
     "execution_count": 45,
     "metadata": {},
     "output_type": "execute_result"
    }
   ],
   "source": [
    "survey['dataid'].isin(house_ids)"
   ]
  },
  {
   "cell_type": "code",
   "execution_count": 51,
   "id": "8f2a72e2",
   "metadata": {},
   "outputs": [
    {
     "data": {
      "text/plain": [
       "array([ True, False,  True, False,  True,  True,  True,  True,  True,\n",
       "       False, False, False, False,  True, False, False,  True, False,\n",
       "       False,  True,  True,  True,  True, False,  True,  True,  True,\n",
       "       False,  True, False,  True,  True, False, False, False, False,\n",
       "       False,  True, False, False, False, False, False, False, False,\n",
       "       False, False, False, False, False, False, False, False, False,\n",
       "       False,  True, False, False, False, False, False, False, False,\n",
       "       False, False, False, False, False, False, False])"
      ]
     },
     "execution_count": 51,
     "metadata": {},
     "output_type": "execute_result"
    }
   ],
   "source": [
    "np.isin(house_ids, residence.read_survey()[0])"
   ]
  },
  {
   "cell_type": "code",
   "execution_count": 56,
   "id": "c52ed267",
   "metadata": {},
   "outputs": [
    {
     "data": {
      "text/plain": [
       "['dataid',\n",
       " 'active_record',\n",
       " 'building_type',\n",
       " 'program_579',\n",
       " 'program_baseline',\n",
       " 'program_energy_internet_demo',\n",
       " 'program_lg_appliance',\n",
       " 'program_verizon',\n",
       " 'program_ccet_group',\n",
       " 'program_civita_group',\n",
       " 'program_shines',\n",
       " 'city',\n",
       " 'state',\n",
       " 'pv',\n",
       " 'pv_panel_direction',\n",
       " 'total_amount_of_pv',\n",
       " 'amount_of_south_facing_pv',\n",
       " 'amount_of_west_facing_pv',\n",
       " 'amount_of_east_facing_pv',\n",
       " 'date_enrolled',\n",
       " 'date_withdrawn',\n",
       " 'house_construction_year',\n",
       " 'total_square_footage',\n",
       " 'first_floor_square_footage',\n",
       " 'second_floor_square_footage',\n",
       " 'third_floor_square_footage',\n",
       " 'half_floor_square_footage',\n",
       " 'lower_level_square_footage',\n",
       " 'audit_2011',\n",
       " 'audit_2013_2014',\n",
       " 'survey_2011',\n",
       " 'survey_2012',\n",
       " 'survey_2013',\n",
       " 'survey_2014',\n",
       " 'survey_2017',\n",
       " 'survey_2019',\n",
       " 'number_of_nests',\n",
       " 'indoor_temp_min_time',\n",
       " 'indoor_temp_max_time',\n",
       " 'indoor_temp_data_availability',\n",
       " 'gas_ert_min_time',\n",
       " 'gas_ert_max_time',\n",
       " 'gas_data_availability',\n",
       " 'water_ert_min_time',\n",
       " 'water_ert_max_time',\n",
       " 'water_data_availability',\n",
       " 'egauge_1min_min_time',\n",
       " 'egauge_1min_max_time',\n",
       " 'egauge_1min_data_availability',\n",
       " 'egauge_1s_min_time',\n",
       " 'egauge_1s_max_time',\n",
       " 'egauge_1s_data_availability',\n",
       " 'air1',\n",
       " 'air2',\n",
       " 'air3',\n",
       " 'airwindowunit1',\n",
       " 'aquarium1',\n",
       " 'bathroom1',\n",
       " 'bathroom2',\n",
       " 'bedroom1',\n",
       " 'bedroom2',\n",
       " 'bedroom3',\n",
       " 'bedroom4',\n",
       " 'bedroom5',\n",
       " 'battery1',\n",
       " 'car1',\n",
       " 'car2',\n",
       " 'circpump1',\n",
       " 'clotheswasher1',\n",
       " 'clotheswasher_dryg1',\n",
       " 'diningroom1',\n",
       " 'diningroom2',\n",
       " 'dishwasher1',\n",
       " 'disposal1',\n",
       " 'drye1',\n",
       " 'dryg1',\n",
       " 'freezer1',\n",
       " 'furnace1',\n",
       " 'furnace2',\n",
       " 'garage1',\n",
       " 'garage2',\n",
       " 'grid',\n",
       " 'heater1',\n",
       " 'heater2',\n",
       " 'heater3',\n",
       " 'housefan1',\n",
       " 'icemaker1',\n",
       " 'jacuzzi1',\n",
       " 'kitchen1',\n",
       " 'kitchen2',\n",
       " 'kitchenapp1',\n",
       " 'kitchenapp2',\n",
       " 'lights_plugs1',\n",
       " 'lights_plugs2',\n",
       " 'lights_plugs3',\n",
       " 'lights_plugs4',\n",
       " 'lights_plugs5',\n",
       " 'lights_plugs6',\n",
       " 'livingroom1',\n",
       " 'livingroom2',\n",
       " 'microwave1',\n",
       " 'office1',\n",
       " 'outsidelights_plugs1',\n",
       " 'outsidelights_plugs2',\n",
       " 'oven1',\n",
       " 'oven2',\n",
       " 'pool1',\n",
       " 'pool2',\n",
       " 'poollight1',\n",
       " 'poolpump1',\n",
       " 'pump1',\n",
       " 'range1',\n",
       " 'refrigerator1',\n",
       " 'refrigerator2',\n",
       " 'security1',\n",
       " 'sewerpump1',\n",
       " 'shed1',\n",
       " 'solar',\n",
       " 'solar2',\n",
       " 'sprinkler1',\n",
       " 'sumppump1',\n",
       " 'utilityroom1',\n",
       " 'venthood1',\n",
       " 'waterheater1',\n",
       " 'waterheater2',\n",
       " 'winecooler1',\n",
       " 'wellpump1',\n",
       " 'energy_storage_system',\n",
       " 'energy_storage_system_l1',\n",
       " 'energy_storage_system_l2']"
      ]
     },
     "execution_count": 56,
     "metadata": {},
     "output_type": "execute_result"
    }
   ],
   "source": [
    "metadata.columns.tolist()"
   ]
  },
  {
   "cell_type": "code",
   "execution_count": 63,
   "id": "162634bc",
   "metadata": {},
   "outputs": [
    {
     "data": {
      "text/plain": [
       "38      9160\n",
       "45      7536\n",
       "51       661\n",
       "56      1642\n",
       "62      2335\n",
       "66      2818\n",
       "69      3039\n",
       "70      3456\n",
       "75      4031\n",
       "81      4767\n",
       "137     7951\n",
       "192     9019\n",
       "222     5746\n",
       "225     6139\n",
       "249     9922\n",
       "319     3538\n",
       "325     4373\n",
       "343     7800\n",
       "349     8386\n",
       "386     9278\n",
       "983     5938\n",
       "986     3938\n",
       "987     8061\n",
       "999     8574\n",
       "1000    7114\n",
       "1002    7062\n",
       "1003    8733\n",
       "1005    9775\n",
       "1011    4495\n",
       "1056    2606\n",
       "1076    1731\n",
       "1077    8342\n",
       "1086    4934\n",
       "1146    9836\n",
       "1189    9612\n",
       "1236    1524\n",
       "1237    7719\n",
       "1480    5058\n",
       "1491    3996\n",
       "1503     950\n",
       "1505     914\n",
       "1507      27\n",
       "1508    5587\n",
       "1509    5679\n",
       "1523    3488\n",
       "1536    5997\n",
       "1542     387\n",
       "1543    1240\n",
       "1575    1222\n",
       "Name: dataid, dtype: int64"
      ]
     },
     "execution_count": 63,
     "metadata": {},
     "output_type": "execute_result"
    }
   ],
   "source": [
    "has_survey = metadata[metadata[['audit_2011', 'audit_2013_2014', 'survey_2011',\n",
    " 'survey_2012',\n",
    " 'survey_2013',\n",
    " 'survey_2014',\n",
    " 'survey_2017',\n",
    " 'survey_2019']].any(axis=1)]['dataid']\n",
    "\n",
    "\n",
    "has_survey[has_survey.isin(house_ids)]"
   ]
  },
  {
   "cell_type": "code",
   "execution_count": 6,
   "id": "8eb16dc2",
   "metadata": {},
   "outputs": [],
   "source": [
    "dataids = []\n",
    "for year in [2011, 2012, 2013, 2014, 2017, 2019]:\n",
    "    s = pd.read_csv(f'../data/audits_and_surveys/survey_{year}_all_participants.csv')\n",
    "    s['dataid'] = s['dataid'].astype(str).str.replace('\\ufeff', '', regex=False)\n",
    "    dataids += s['dataid'].unique().tolist()\n",
    "dataids_r = np.unique(dataids)\n",
    "dataids = []\n",
    "for id in dataids_r:\n",
    "    try:\n",
    "        id = int(eval(id))\n",
    "        dataids.append(id)\n",
    "    \n",
    "    except:\n",
    "        pass"
   ]
  },
  {
   "cell_type": "code",
   "execution_count": null,
   "id": "7a59dbf7",
   "metadata": {},
   "outputs": [],
   "source": []
  },
  {
   "cell_type": "code",
   "execution_count": 7,
   "id": "cb9dca0e",
   "metadata": {},
   "outputs": [],
   "source": [
    "survey_2011 = pd.read_csv(f'../data/audits_and_surveys/survey_2011_all_participants.csv')\n",
    "survey_2011['dataid'] = survey_2011['dataid'].astype(str).str.replace('\\ufeff', '', regex=False).astype(int)\n",
    "survey_2011['occupants'] = survey_2011[['age_under_5', 'age_6_to_12', 'age_13_to_18', 'age_19_to_24',\n",
    "  'age_25_to_34', 'age_35_to_49', 'age_50_to64', 'age_over_65']].sum(axis=1).astype(int)\n"
   ]
  },
  {
   "cell_type": "code",
   "execution_count": 8,
   "id": "ccb3605a",
   "metadata": {},
   "outputs": [
    {
     "data": {
      "text/plain": [
       "air_conditioner_type\n",
       "Split system with gas furnace    222\n",
       "Heat Pump                         21\n",
       "Mini-split system                  7\n",
       "Geothermal heat pump               1\n",
       "Name: count, dtype: int64"
      ]
     },
     "execution_count": 8,
     "metadata": {},
     "output_type": "execute_result"
    }
   ],
   "source": [
    "survey_2011['air_conditioner_type'].value_counts()"
   ]
  },
  {
   "cell_type": "code",
   "execution_count": 9,
   "id": "58080fa1",
   "metadata": {},
   "outputs": [],
   "source": [
    "survey_2012 = pd.read_csv(f'../data/audits_and_surveys/survey_2012_all_participants.csv')\n",
    "survey_2012.dropna(subset=['dataid'], inplace=True)\n",
    "for col in ['num_age_5_and_under', 'num_age_6_to_12', 'num_age_13_to_18', 'num_age_19_to_24',\n",
    "                                        'num_age_25_to_34', 'num_age_35_to_49', 'num_age_50_to_64', 'num_age_65_and_older']:\n",
    "    cc = survey_2012[col].fillna(0)\n",
    "    survey_2012[col] = cc.astype(int)\n",
    "survey_2012['dataid'] = survey_2012['dataid'].astype(str).str.replace('\\ufeff', '', regex=False).apply(lambda x: int(eval(x))).astype(int)\n",
    "survey_2012['occupants'] = survey_2012[['num_age_5_and_under', 'num_age_6_to_12', 'num_age_13_to_18', 'num_age_19_to_24',\n",
    "                                        'num_age_25_to_34', 'num_age_35_to_49', 'num_age_50_to_64', 'num_age_65_and_older']\n",
    "].astype(int).sum(axis=1).astype(int)"
   ]
  },
  {
   "cell_type": "code",
   "execution_count": 10,
   "id": "6000dd78",
   "metadata": {},
   "outputs": [
    {
     "data": {
      "text/plain": [
       "hvac_system\n",
       "Split system with gas furnace                      133\n",
       "Conventional split system with electric heating     12\n",
       "I don't know                                         9\n",
       "Heat Pump                                            6\n",
       "Name: count, dtype: int64"
      ]
     },
     "execution_count": 10,
     "metadata": {},
     "output_type": "execute_result"
    }
   ],
   "source": [
    "survey_2012['hvac_system'].value_counts()"
   ]
  },
  {
   "cell_type": "code",
   "execution_count": 11,
   "id": "c29d5f93",
   "metadata": {},
   "outputs": [],
   "source": [
    "survey_2013 = pd.read_csv(f'../data/audits_and_surveys/survey_2013_all_participants.csv')\n",
    "survey_2013.dropna(subset=['dataid'], inplace=True)\n",
    "survey_2013['dataid'] = survey_2013['dataid'].astype(int)\n",
    "for col in ['residents_under_5', 'residents_6_to_12', 'residents_13_to_18', 'residents_19_to_24',\n",
    "            'residents_25_to_34', 'residents_35_to_49', 'residents_50_to_64', 'residents_older_65']:\n",
    "    cc = survey_2013[col].fillna(0)\n",
    "    survey_2013[col] = cc.astype(int)\n",
    "survey_2013['occupants'] = survey_2013[['residents_under_5', 'residents_6_to_12', 'residents_13_to_18', 'residents_19_to_24',\n",
    "            'residents_25_to_34', 'residents_35_to_49', 'residents_50_to_64', 'residents_older_65']].sum(axis=1).astype(int)"
   ]
  },
  {
   "cell_type": "code",
   "execution_count": 12,
   "id": "d4a7abec",
   "metadata": {},
   "outputs": [
    {
     "data": {
      "text/plain": [
       "hvac_system\n",
       "Split system with gas furnace                                                         232\n",
       "Central air system with electric heating                                               23\n",
       "Heat Pump                                                                              18\n",
       "I dont know                                                                            15\n",
       "Split system with gas furnace, Heat Pump                                                8\n",
       "Central air system with electric heating, Heat Pump                                     4\n",
       "                                                                                        3\n",
       "Geothermal heat pump                                                                    3\n",
       "Split system with gas furnace, Central air system with electric heating                 2\n",
       "Heat Pump, Window unit                                                                  2\n",
       "Central air system with electric heating, Heat Pump, Window unit                        2\n",
       "Split system with gas furnace, Window unit                                              2\n",
       "Split system with gas furnace, Central air system with electric heating, Heat Pump      1\n",
       "Window unit                                                                             1\n",
       "Heat Pump, Geothermal heat pump                                                         1\n",
       "Split system with gas furnace, Mini-split system                                        1\n",
       "Central air system with electric heating, Window unit                                   1\n",
       "Name: count, dtype: int64"
      ]
     },
     "execution_count": 12,
     "metadata": {},
     "output_type": "execute_result"
    }
   ],
   "source": [
    "survey_2013['hvac_system'] = survey_2013[['hvac_central_air_gas_furnace', 'hvac_central_air_electric_furnace', 'hvac_twoway_heat_pump', 'hvac_geothermal_heat_pump', 'hvac_window_ac', 'hvac_ductless', 'hvac_no_ac', 'hvac_dont_know']].apply(\n",
    "    lambda row: ', '.join([str(x) for x in row if pd.notna(x)]), axis=1\n",
    ")\n",
    "survey_2013['hvac_system'].value_counts()"
   ]
  },
  {
   "cell_type": "code",
   "execution_count": 18,
   "id": "03fac34b",
   "metadata": {},
   "outputs": [],
   "source": [
    "survey_2014 = pd.read_csv(f'../data/audits_and_surveys/survey_2014_all_participants.csv')\n",
    "survey_2014.dropna(subset=['dataid'], inplace=True)\n",
    "survey_2014['dataid'] = survey_2014['dataid'].astype(int)\n",
    "for col in ['residents_under_5', 'residents_6_to_12', 'residents_13_to_18', 'residents_19_to_24', 'residents_25_to_34', 'residents_35_to_49', 'residents_50_to_64', 'residents_65_and_older']:\n",
    "    cc = survey_2014[col].fillna(0)\n",
    "    survey_2014[col] = cc.astype(int)\n",
    "survey_2014['occupants'] = survey_2014[['residents_under_5', 'residents_6_to_12', 'residents_13_to_18', 'residents_19_to_24', 'residents_25_to_34', 'residents_35_to_49', 'residents_50_to_64', 'residents_65_and_older']].sum(axis=1).astype(int)"
   ]
  },
  {
   "cell_type": "code",
   "execution_count": 19,
   "id": "38fab3d5",
   "metadata": {},
   "outputs": [
    {
     "data": {
      "text/plain": [
       "hvac_system\n",
       "Split system with gas furnace                                              220\n",
       "                                                                            35\n",
       "Central air system with electric heating                                    24\n",
       "Heat Pump                                                                   14\n",
       "Split system with gas furnace, Window unit                                   7\n",
       "No air conditioning                                                          6\n",
       "Window unit                                                                  4\n",
       "\"\"\"I don't know\"\"\"                                                           3\n",
       "Split system with gas furnace, Central air system with electric heating      3\n",
       "Split system with gas furnace, Heat Pump                                     2\n",
       "Split system with gas furnace, No air conditioning                           2\n",
       "Central air system with electric heating, Heat Pump                          2\n",
       "Geothermal heat pump                                                         2\n",
       "Mini-split system                                                            2\n",
       "Mini-split system, \"\"\"I don't know\"\"\"                                        1\n",
       "Central air system with electric heating, Mini-split system                  1\n",
       "Heat Pump, Window unit                                                       1\n",
       "Split system with gas furnace, Heat Pump, Mini-split system                  1\n",
       "Central air system with electric heating, Geothermal heat pump               1\n",
       "Heat Pump, Geothermal heat pump                                              1\n",
       "Central air system with electric heating, Window unit                        1\n",
       "Name: count, dtype: int64"
      ]
     },
     "execution_count": 19,
     "metadata": {},
     "output_type": "execute_result"
    }
   ],
   "source": [
    "survey_2014['hvac_system'] = survey_2014[['hvac_central_air_gas_furnace', 'hvac_central_air_electric_furnace', 'hvac_twoway_heat_pump', 'hvac_geothermal_heat_pump', 'hvac_window_ac', 'hvac_ductless', 'hvac_no_ac', 'hvac_dont_know']].apply(\n",
    "    lambda row: ', '.join([str(x) for x in row if pd.notna(x)]), axis=1\n",
    ")\n",
    "survey_2014['hvac_system'].value_counts()"
   ]
  },
  {
   "cell_type": "code",
   "execution_count": 24,
   "id": "7642ec15",
   "metadata": {},
   "outputs": [],
   "source": [
    "survey_2017 = pd.read_csv(f'../data/audits_and_surveys/survey_2017_all_participants.csv')\n",
    "survey_2017.dropna(subset=['dataid'], inplace=True)\n",
    "survey_2017['dataid'] = survey_2017['dataid'].astype(str).str.replace('\\ufeff', '', regex=False).astype(int)\n",
    "for col in ['residents_under_5', 'residents_6_to_12', 'residents_13_to_18', 'residents_19_to_24', 'residents_25_to_34', 'residents_35_to_49', 'residents_50_to_64', 'residents_65_and_older']:\n",
    "    cc = survey_2017[col].fillna(0)\n",
    "    survey_2017[col] = cc.astype(int)\n",
    "survey_2017['occupants'] = survey_2017[['residents_under_5', 'residents_6_to_12', 'residents_13_to_18', 'residents_19_to_24', 'residents_25_to_34', 'residents_35_to_49', 'residents_50_to_64', 'residents_65_and_older']].sum(axis=1).astype(int)"
   ]
  },
  {
   "cell_type": "code",
   "execution_count": 22,
   "id": "c8ecff6f",
   "metadata": {},
   "outputs": [
    {
     "data": {
      "text/plain": [
       "hvac_system\n",
       "Split system with gas furnace                                              175\n",
       "Central air system with electric heating                                    21\n",
       "                                                                            20\n",
       "Heat Pump                                                                   12\n",
       "Split system with gas furnace, Window unit                                   4\n",
       "Central air system with electric heating, Heat Pump                          4\n",
       "Heat Pump, Window unit                                                       2\n",
       "Geothermal heat pump                                                         2\n",
       "I don't know                                                                 2\n",
       "Split system with gas furnace, Heat Pump                                     2\n",
       "Split system with gas furnace, Heat Pump, Mini-split system                  2\n",
       "Split system with gas furnace, Heat Pump, I don't know                       1\n",
       "Window unit                                                                  1\n",
       "Central air system with electric heating, I don't know                       1\n",
       "Heat Pump, Geothermal heat pump                                              1\n",
       "Heat Pump, Mini-split system                                                 1\n",
       "Central air system with electric heating, Mini-split system                  1\n",
       "Central air system with electric heating, Window unit                        1\n",
       "Mini-split system                                                            1\n",
       "Split system with gas furnace, Central air system with electric heating      1\n",
       "Split system with gas furnace, Mini-split system                             1\n",
       "Name: count, dtype: int64"
      ]
     },
     "execution_count": 22,
     "metadata": {},
     "output_type": "execute_result"
    }
   ],
   "source": [
    "survey_2017['hvac_system'] = survey_2017[['hvac_central_air_gas_furnace', 'hvac_central_air_electric_heating', 'heat_pump_split', 'hvac_geothermal_heat_pump', 'hvac_window_unit_ac', 'hvac_ductless_minisplit', 'hvac_no_ans'\n",
    "]].apply(\n",
    "    lambda row: ', '.join([str(x) for x in row if pd.notna(x)]), axis=1\n",
    ")\n",
    "survey_2017['hvac_system'].value_counts()\n",
    "\n"
   ]
  },
  {
   "cell_type": "code",
   "execution_count": 25,
   "id": "ffdff34d",
   "metadata": {},
   "outputs": [],
   "source": [
    "survey_2019 = pd.read_csv(f'../data/audits_and_surveys/survey_2019_all_participants.csv')\n",
    "survey_2019.dropna(subset=['dataid'], inplace=True)\n",
    "survey_2019['dataid'] = survey_2019['dataid'].astype(str).str.replace('\\ufeff', '', regex=False).astype(int)\n",
    "for col in ['residents_under_5', 'residents_6_to_12', 'residents_13_to_18', 'residents_19_to_24', 'residents_25_to_34', 'residents_35_to_49', 'residents_50_to_64', 'residents_65_and_older']:\n",
    "    cc = survey_2017[col].fillna(0)\n",
    "    survey_2017[col] = cc.astype(int)\n",
    "survey_2019['occupants'] = survey_2019[['residents_under_5', 'residents_6_to_12', 'residents_13_to_18', 'residents_19_to_24', 'residents_25_to_34', 'residents_35_to_49', 'residents_50_to_64', 'residents_65_and_older']].sum(axis=1).astype(int)"
   ]
  },
  {
   "cell_type": "code",
   "execution_count": 27,
   "id": "7cb7568e",
   "metadata": {},
   "outputs": [
    {
     "data": {
      "text/plain": [
       "hvac_system\n",
       "Split system with gas furnace                                                                    123\n",
       "No air conditioning                                                                               14\n",
       "Heat Pump                                                                                         13\n",
       "Split system with gas furnace, No air conditioning                                                10\n",
       "Central air system with electric heating                                                          10\n",
       "Geothermal heat pump                                                                               5\n",
       "Split system with gas furnace, Mini-split system                                                   4\n",
       "Mini-split system                                                                                  4\n",
       "Split system with gas furnace, Central air system with electric heating                            3\n",
       "Split system with gas furnace, Window unit                                                         3\n",
       "Window unit                                                                                        2\n",
       "I don't know                                                                                       2\n",
       "Split system with gas furnace, Heat Pump                                                           2\n",
       "Central air system with electric heating, Heat Pump, Window unit                                   1\n",
       "Split system with gas furnace, Central air system with electric heating, No air conditioning       1\n",
       "Heat Pump, Geothermal heat pump                                                                    1\n",
       "Split system with gas furnace, Heat Pump, Mini-split system                                        1\n",
       "Split system with gas furnace, Central air system with electric heating, Heat Pump                 1\n",
       "Heat Pump, Mini-split system                                                                       1\n",
       "                                                                                                   1\n",
       "Central air system with electric heating, Geothermal heat pump                                     1\n",
       "Heat Pump, No air conditioning                                                                     1\n",
       "Central air system with electric heating, Heat Pump                                                1\n",
       "Split system with gas furnace, Central air system with electric heating, Geothermal heat pump      1\n",
       "Name: count, dtype: int64"
      ]
     },
     "execution_count": 27,
     "metadata": {},
     "output_type": "execute_result"
    }
   ],
   "source": [
    "survey_2019['hvac_system'] = survey_2019[['hvac_central_air_gas_furnace', 'hvac_central_air_electric_heating', 'heat_pump_split', 'hvac_geothermal_heat_pump', 'hvac_window_unit_ac', 'hvac_ductless_minisplit', 'no_hvac', 'hvac_dont_know'\n",
    "]].apply(\n",
    "    lambda row: ', '.join([str(x) for x in row if pd.notna(x)]), axis=1\n",
    ")\n",
    "survey_2019['hvac_system'].value_counts()\n",
    "\n"
   ]
  }
 ],
 "metadata": {
  "kernelspec": {
   "display_name": "base",
   "language": "python",
   "name": "python3"
  },
  "language_info": {
   "codemirror_mode": {
    "name": "ipython",
    "version": 3
   },
   "file_extension": ".py",
   "mimetype": "text/x-python",
   "name": "python",
   "nbconvert_exporter": "python",
   "pygments_lexer": "ipython3",
   "version": "3.12.3"
  }
 },
 "nbformat": 4,
 "nbformat_minor": 5
}
