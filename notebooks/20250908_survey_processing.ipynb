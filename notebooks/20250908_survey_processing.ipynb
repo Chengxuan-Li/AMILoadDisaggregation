{
 "cells": [
  {
   "cell_type": "code",
   "execution_count": 1,
   "id": "d8235bd8",
   "metadata": {},
   "outputs": [],
   "source": [
    "import numpy as np\n",
    "import pandas as pd\n",
    "import matplotlib.pyplot as plt"
   ]
  },
  {
   "cell_type": "code",
   "execution_count": 2,
   "id": "27cd7a8e",
   "metadata": {},
   "outputs": [
    {
     "data": {
      "text/plain": [
       "air_conditioner_type\n",
       "Split system with gas furnace    222\n",
       "Heat Pump                         21\n",
       "Mini-split system                  7\n",
       "Geothermal heat pump               1\n",
       "Name: count, dtype: int64"
      ]
     },
     "execution_count": 2,
     "metadata": {},
     "output_type": "execute_result"
    }
   ],
   "source": [
    "survey_2011 = pd.read_csv(f'../data/audits_and_surveys/survey_2011_all_participants.csv')\n",
    "survey_2011['dataid'] = survey_2011['dataid'].astype(str).str.replace('\\ufeff', '', regex=False).astype(int)\n",
    "survey_2011['occupants'] = survey_2011[['age_under_5', 'age_6_to_12', 'age_13_to_18', 'age_19_to_24',\n",
    "  'age_25_to_34', 'age_35_to_49', 'age_50_to64', 'age_over_65']].sum(axis=1).astype(int)\n",
    "\n",
    "survey_2011['air_conditioner_type'].value_counts()"
   ]
  },
  {
   "cell_type": "code",
   "execution_count": 3,
   "id": "813aa1d0",
   "metadata": {},
   "outputs": [
    {
     "data": {
      "text/plain": [
       "hvac_system\n",
       "Split system with gas furnace                      133\n",
       "Conventional split system with electric heating     12\n",
       "I don't know                                         9\n",
       "Heat Pump                                            6\n",
       "Name: count, dtype: int64"
      ]
     },
     "execution_count": 3,
     "metadata": {},
     "output_type": "execute_result"
    }
   ],
   "source": [
    "survey_2012 = pd.read_csv(f'../data/audits_and_surveys/survey_2012_all_participants.csv')\n",
    "survey_2012.dropna(subset=['dataid'], inplace=True)\n",
    "for col in ['num_age_5_and_under', 'num_age_6_to_12', 'num_age_13_to_18', 'num_age_19_to_24',\n",
    "                                        'num_age_25_to_34', 'num_age_35_to_49', 'num_age_50_to_64', 'num_age_65_and_older']:\n",
    "    cc = survey_2012[col].fillna(0)\n",
    "    survey_2012[col] = cc.astype(int)\n",
    "survey_2012['dataid'] = survey_2012['dataid'].astype(str).str.replace('\\ufeff', '', regex=False).apply(lambda x: int(eval(x))).astype(int)\n",
    "survey_2012['occupants'] = survey_2012[['num_age_5_and_under', 'num_age_6_to_12', 'num_age_13_to_18', 'num_age_19_to_24',\n",
    "                                        'num_age_25_to_34', 'num_age_35_to_49', 'num_age_50_to_64', 'num_age_65_and_older']\n",
    "].astype(int).sum(axis=1).astype(int)\n",
    "\n",
    "survey_2012['hvac_system'].value_counts()"
   ]
  },
  {
   "cell_type": "code",
   "execution_count": 5,
   "id": "2b6172e4",
   "metadata": {},
   "outputs": [
    {
     "data": {
      "text/plain": [
       "hvac_system\n",
       "Split system with gas furnace                                                         232\n",
       "Central air system with electric heating                                               23\n",
       "Heat Pump                                                                              18\n",
       "I dont know                                                                            15\n",
       "Split system with gas furnace, Heat Pump                                                8\n",
       "Central air system with electric heating, Heat Pump                                     4\n",
       "                                                                                        3\n",
       "Geothermal heat pump                                                                    3\n",
       "Split system with gas furnace, Central air system with electric heating                 2\n",
       "Heat Pump, Window unit                                                                  2\n",
       "Central air system with electric heating, Heat Pump, Window unit                        2\n",
       "Split system with gas furnace, Window unit                                              2\n",
       "Split system with gas furnace, Central air system with electric heating, Heat Pump      1\n",
       "Window unit                                                                             1\n",
       "Heat Pump, Geothermal heat pump                                                         1\n",
       "Split system with gas furnace, Mini-split system                                        1\n",
       "Central air system with electric heating, Window unit                                   1\n",
       "Name: count, dtype: int64"
      ]
     },
     "execution_count": 5,
     "metadata": {},
     "output_type": "execute_result"
    }
   ],
   "source": [
    "survey_2013 = pd.read_csv(f'../data/audits_and_surveys/survey_2013_all_participants.csv')\n",
    "survey_2013.dropna(subset=['dataid'], inplace=True)\n",
    "survey_2013['dataid'] = survey_2013['dataid'].astype(int)\n",
    "for col in ['residents_under_5', 'residents_6_to_12', 'residents_13_to_18', 'residents_19_to_24',\n",
    "            'residents_25_to_34', 'residents_35_to_49', 'residents_50_to_64', 'residents_older_65']:\n",
    "    cc = survey_2013[col].fillna(0)\n",
    "    survey_2013[col] = cc.astype(int)\n",
    "survey_2013['occupants'] = survey_2013[['residents_under_5', 'residents_6_to_12', 'residents_13_to_18', 'residents_19_to_24',\n",
    "            'residents_25_to_34', 'residents_35_to_49', 'residents_50_to_64', 'residents_older_65']].sum(axis=1).astype(int)\n",
    "\n",
    "survey_2013['hvac_system'] = survey_2013[['hvac_central_air_gas_furnace', 'hvac_central_air_electric_furnace', 'hvac_twoway_heat_pump', 'hvac_geothermal_heat_pump', 'hvac_window_ac', 'hvac_ductless', 'hvac_no_ac', 'hvac_dont_know']].apply(\n",
    "    lambda row: ', '.join([str(x) for x in row if pd.notna(x)]), axis=1\n",
    ")\n",
    "survey_2013['hvac_system'].value_counts()"
   ]
  },
  {
   "cell_type": "code",
   "execution_count": 6,
   "id": "bee81f3c",
   "metadata": {},
   "outputs": [
    {
     "data": {
      "text/plain": [
       "hvac_system\n",
       "Split system with gas furnace                                              220\n",
       "                                                                            35\n",
       "Central air system with electric heating                                    24\n",
       "Heat Pump                                                                   14\n",
       "Split system with gas furnace, Window unit                                   7\n",
       "No air conditioning                                                          6\n",
       "Window unit                                                                  4\n",
       "\"\"\"I don't know\"\"\"                                                           3\n",
       "Split system with gas furnace, Central air system with electric heating      3\n",
       "Split system with gas furnace, Heat Pump                                     2\n",
       "Split system with gas furnace, No air conditioning                           2\n",
       "Central air system with electric heating, Heat Pump                          2\n",
       "Geothermal heat pump                                                         2\n",
       "Mini-split system                                                            2\n",
       "Mini-split system, \"\"\"I don't know\"\"\"                                        1\n",
       "Central air system with electric heating, Mini-split system                  1\n",
       "Heat Pump, Window unit                                                       1\n",
       "Split system with gas furnace, Heat Pump, Mini-split system                  1\n",
       "Central air system with electric heating, Geothermal heat pump               1\n",
       "Heat Pump, Geothermal heat pump                                              1\n",
       "Central air system with electric heating, Window unit                        1\n",
       "Name: count, dtype: int64"
      ]
     },
     "execution_count": 6,
     "metadata": {},
     "output_type": "execute_result"
    }
   ],
   "source": [
    "survey_2014 = pd.read_csv(f'../data/audits_and_surveys/survey_2014_all_participants.csv')\n",
    "survey_2014.dropna(subset=['dataid'], inplace=True)\n",
    "survey_2014['dataid'] = survey_2014['dataid'].astype(int)\n",
    "for col in ['residents_under_5', 'residents_6_to_12', 'residents_13_to_18', 'residents_19_to_24', 'residents_25_to_34', 'residents_35_to_49', 'residents_50_to_64', 'residents_65_and_older']:\n",
    "    cc = survey_2014[col].fillna(0)\n",
    "    survey_2014[col] = cc.astype(int)\n",
    "survey_2014['occupants'] = survey_2014[['residents_under_5', 'residents_6_to_12', 'residents_13_to_18', 'residents_19_to_24', 'residents_25_to_34', 'residents_35_to_49', 'residents_50_to_64', 'residents_65_and_older']].sum(axis=1).astype(int)\n",
    "\n",
    "survey_2014['hvac_system'] = survey_2014[['hvac_central_air_gas_furnace', 'hvac_central_air_electric_furnace', 'hvac_twoway_heat_pump', 'hvac_geothermal_heat_pump', 'hvac_window_ac', 'hvac_ductless', 'hvac_no_ac', 'hvac_dont_know']].apply(\n",
    "    lambda row: ', '.join([str(x) for x in row if pd.notna(x)]), axis=1\n",
    ")\n",
    "survey_2014['hvac_system'].value_counts()"
   ]
  },
  {
   "cell_type": "code",
   "execution_count": 7,
   "id": "056ca623",
   "metadata": {},
   "outputs": [
    {
     "data": {
      "text/plain": [
       "hvac_system\n",
       "Split system with gas furnace                                              175\n",
       "Central air system with electric heating                                    21\n",
       "                                                                            20\n",
       "Heat Pump                                                                   12\n",
       "Split system with gas furnace, Window unit                                   4\n",
       "Central air system with electric heating, Heat Pump                          4\n",
       "Heat Pump, Window unit                                                       2\n",
       "Geothermal heat pump                                                         2\n",
       "I don't know                                                                 2\n",
       "Split system with gas furnace, Heat Pump                                     2\n",
       "Split system with gas furnace, Heat Pump, Mini-split system                  2\n",
       "Split system with gas furnace, Heat Pump, I don't know                       1\n",
       "Window unit                                                                  1\n",
       "Central air system with electric heating, I don't know                       1\n",
       "Heat Pump, Geothermal heat pump                                              1\n",
       "Heat Pump, Mini-split system                                                 1\n",
       "Central air system with electric heating, Mini-split system                  1\n",
       "Central air system with electric heating, Window unit                        1\n",
       "Mini-split system                                                            1\n",
       "Split system with gas furnace, Central air system with electric heating      1\n",
       "Split system with gas furnace, Mini-split system                             1\n",
       "Name: count, dtype: int64"
      ]
     },
     "execution_count": 7,
     "metadata": {},
     "output_type": "execute_result"
    }
   ],
   "source": [
    "survey_2017 = pd.read_csv(f'../data/audits_and_surveys/survey_2017_all_participants.csv')\n",
    "survey_2017.dropna(subset=['dataid'], inplace=True)\n",
    "survey_2017['dataid'] = survey_2017['dataid'].astype(str).str.replace('\\ufeff', '', regex=False).astype(int)\n",
    "for col in ['residents_under_5', 'residents_6_to_12', 'residents_13_to_18', 'residents_19_to_24', 'residents_25_to_34', 'residents_35_to_49', 'residents_50_to_64', 'residents_65_and_older']:\n",
    "    cc = survey_2017[col].fillna(0)\n",
    "    survey_2017[col] = cc.astype(int)\n",
    "survey_2017['occupants'] = survey_2017[['residents_under_5', 'residents_6_to_12', 'residents_13_to_18', 'residents_19_to_24', 'residents_25_to_34', 'residents_35_to_49', 'residents_50_to_64', 'residents_65_and_older']].sum(axis=1).astype(int)\n",
    "\n",
    "\n",
    "survey_2017['hvac_system'] = survey_2017[['hvac_central_air_gas_furnace', 'hvac_central_air_electric_heating', 'heat_pump_split', 'hvac_geothermal_heat_pump', 'hvac_window_unit_ac', 'hvac_ductless_minisplit', 'hvac_no_ans'\n",
    "]].apply(\n",
    "    lambda row: ', '.join([str(x) for x in row if pd.notna(x)]), axis=1\n",
    ")\n",
    "survey_2017['hvac_system'].value_counts()\n",
    "\n"
   ]
  },
  {
   "cell_type": "code",
   "execution_count": 8,
   "id": "ac6f72b0",
   "metadata": {},
   "outputs": [
    {
     "data": {
      "text/plain": [
       "hvac_system\n",
       "Split system with gas furnace                                                                    123\n",
       "No air conditioning                                                                               14\n",
       "Heat Pump                                                                                         13\n",
       "Split system with gas furnace, No air conditioning                                                10\n",
       "Central air system with electric heating                                                          10\n",
       "Geothermal heat pump                                                                               5\n",
       "Split system with gas furnace, Mini-split system                                                   4\n",
       "Mini-split system                                                                                  4\n",
       "Split system with gas furnace, Central air system with electric heating                            3\n",
       "Split system with gas furnace, Window unit                                                         3\n",
       "Window unit                                                                                        2\n",
       "I don't know                                                                                       2\n",
       "Split system with gas furnace, Heat Pump                                                           2\n",
       "Central air system with electric heating, Heat Pump, Window unit                                   1\n",
       "Split system with gas furnace, Central air system with electric heating, No air conditioning       1\n",
       "Heat Pump, Geothermal heat pump                                                                    1\n",
       "Split system with gas furnace, Heat Pump, Mini-split system                                        1\n",
       "Split system with gas furnace, Central air system with electric heating, Heat Pump                 1\n",
       "Heat Pump, Mini-split system                                                                       1\n",
       "                                                                                                   1\n",
       "Central air system with electric heating, Geothermal heat pump                                     1\n",
       "Heat Pump, No air conditioning                                                                     1\n",
       "Central air system with electric heating, Heat Pump                                                1\n",
       "Split system with gas furnace, Central air system with electric heating, Geothermal heat pump      1\n",
       "Name: count, dtype: int64"
      ]
     },
     "execution_count": 8,
     "metadata": {},
     "output_type": "execute_result"
    }
   ],
   "source": [
    "survey_2019 = pd.read_csv(f'../data/audits_and_surveys/survey_2019_all_participants.csv')\n",
    "survey_2019.dropna(subset=['dataid'], inplace=True)\n",
    "survey_2019['dataid'] = survey_2019['dataid'].astype(str).str.replace('\\ufeff', '', regex=False).astype(int)\n",
    "for col in ['residents_under_5', 'residents_6_to_12', 'residents_13_to_18', 'residents_19_to_24', 'residents_25_to_34', 'residents_35_to_49', 'residents_50_to_64', 'residents_65_and_older']:\n",
    "    cc = survey_2017[col].fillna(0)\n",
    "    survey_2017[col] = cc.astype(int)\n",
    "survey_2019['occupants'] = survey_2019[['residents_under_5', 'residents_6_to_12', 'residents_13_to_18', 'residents_19_to_24', 'residents_25_to_34', 'residents_35_to_49', 'residents_50_to_64', 'residents_65_and_older']].sum(axis=1).astype(int)\n",
    "\n",
    "\n",
    "survey_2019['hvac_system'] = survey_2019[['hvac_central_air_gas_furnace', 'hvac_central_air_electric_heating', 'heat_pump_split', 'hvac_geothermal_heat_pump', 'hvac_window_unit_ac', 'hvac_ductless_minisplit', 'no_hvac', 'hvac_dont_know'\n",
    "]].apply(\n",
    "    lambda row: ', '.join([str(x) for x in row if pd.notna(x)]), axis=1\n",
    ")\n",
    "survey_2019['hvac_system'].value_counts()\n",
    "\n"
   ]
  }
 ],
 "metadata": {
  "kernelspec": {
   "display_name": "base",
   "language": "python",
   "name": "python3"
  },
  "language_info": {
   "codemirror_mode": {
    "name": "ipython",
    "version": 3
   },
   "file_extension": ".py",
   "mimetype": "text/x-python",
   "name": "python",
   "nbconvert_exporter": "python",
   "pygments_lexer": "ipython3",
   "version": "3.12.3"
  }
 },
 "nbformat": 4,
 "nbformat_minor": 5
}
